{
 "cells": [
  {
   "cell_type": "code",
   "execution_count": null,
   "id": "90c22432",
   "metadata": {},
   "outputs": [],
   "source": [
    "import pandas as pd\n",
    "import geopandas as gpd\n",
    "import folium\n",
    " # This adds the bike locations we will be working with \n",
    "locations = (\"https://www.belfastcity.gov.uk/getmedia/f68a4e53-68df-429c-8ac8-a8be9411ab73/belfast-bike-stations-updated-25-june-2021.csv\")\n",
    "bike_station_locations= pd.read_csv(locations)\n",
    "\n",
    "#this creates the map and centres the map on the mean x,y of all bike station locations\n",
    "map = folium.Map(location=[bike_station_locations.Latitude.mean(), bike_station_locations.Longitude.mean()], zoom_start=14, control_scale=True)\n",
    "\n",
    "#this adds the point locations to the map and uses the location field as a popup label\n",
    "for index, row in bike_station_locations.iterrows():\n",
    "    lat = row['Latitude']\n",
    "    long = row['Longitude']\n",
    "    name = row['Location']\n",
    "    \n",
    "    folium.Marker([lat, long], name).add_to(map)\n",
    "\n",
    "#this adds a title to the map   \n",
    "mapTitle = 'Belfast Bike Locations'\n",
    "title_html = '''\n",
    "             <h3 align=\"center\" style=\"font-size:16px\"><b>{}</b></h3>\n",
    "             '''.format(mapTitle)   \n",
    "\n",
    "\n",
    "\n",
    "map.get_root().html.add_child(folium.Element(title_html))    \n",
    "\n",
    "#this saves the map\n",
    "map.save(\"Belfastbikes.html\")\n",
    "map\n",
    "\n"
   ]
  }
 ],
 "metadata": {
  "kernelspec": {
   "display_name": "Python 3 (ipykernel)",
   "language": "python",
   "name": "python3"
  },
  "language_info": {
   "codemirror_mode": {
    "name": "ipython",
    "version": 3
   },
   "file_extension": ".py",
   "mimetype": "text/x-python",
   "name": "python",
   "nbconvert_exporter": "python",
   "pygments_lexer": "ipython3",
   "version": "3.11.3"
  }
 },
 "nbformat": 4,
 "nbformat_minor": 5
}
