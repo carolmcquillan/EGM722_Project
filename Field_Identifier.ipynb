{
 "cells": [
  {
   "cell_type": "code",
   "execution_count": null,
   "id": "ddf171f3",
   "metadata": {},
   "outputs": [],
   "source": [
    "###- - - - - - - - - - - - - - -  Import required modules/packages/dependencies- - - - - - - - - - - - - - - - - - -  - - - - - - - - - -\n",
    "from cartopy.feature import ShapelyFeature\n",
    "import cartopy.crs as ccrs\n",
    "import cartopy\n",
    "import geopandas as gpd\n",
    "import pandas as pd\n",
    "from mpl_toolkits.axes_grid1 import make_axes_locatable\n",
    "import os\n",
    "import matplotlib.patches as mpatches\n",
    "import matplotlib.pyplot as plt\n",
    "import matplotlib.lines as mlines\n",
    "import folium\n",
    "import ipywidgets\n",
    "#from IPython.display import HTML, display\n",
    "import numpy as np\n",
    "#- - - - - - - - - - - - - - -  Initial Map SetUp- - - - - - - - - - - - - - - - - - - - - - - - - - - - - - - - -- - - ---------\n",
    "%matplotlib notebook\n",
    "# make the plotting interactive\n",
    "#plt.ion()\n",
    "\n",
    "# create the applicable CRS -in this case- Universal Transverse Mercator reference system- to transform the data\n",
    "myCRS = ccrs.epsg(2157)\n",
    "\n",
    "# create a figure of size 10x10 (representing the page size in inches)\n",
    "myFig = plt.figure(figsize=(10, 10)) \n",
    "\n",
    "# create an axes object in the figure (within which the data shall be plotted), using the predefined crs\n",
    "ax = plt.axes(projection=myCRS)  \n",
    "\n",
    "# first, we just add the outline of Northern Ireland using cartopy's ShapelyFeature\n",
    "outline= gpd.read_file(os.path.abspath('c:/Carol_PG_CERT_GIS/egm722_Practicals/egm722/week2/data_files/NI_outline.shp')).to_crs(epsg=2157)\n",
    "\n",
    "outline_feature = ShapelyFeature(outline['geometry'], myCRS, edgecolor='k', facecolor='w', linewidth=3) #load in dataset, to be used to set the map extent\n",
    "xmin, ymin, xmax, ymax = outline.total_bounds #then get this dataset bounds and set them against the axes extent '\n",
    "ax.add_feature(outline_feature) # add the features we've created to the map.\n",
    "ax.set_extent([xmin-5000, xmax+5000, ymin-5000, ymax+5000], crs=myCRS)\n",
    "#ax.set_title(\"Analysing Fields within 3km of ASSIs\");\n"
   ]
  },
  {
   "cell_type": "code",
   "execution_count": null,
   "id": "c0dac541",
   "metadata": {},
   "outputs": [],
   "source": [
    "###- - - - - - - - - - - - - - -  Add required data- - - - - - - - - - - - - - - - - - - - - - - - - - - - - - - - -- - - -\n",
    "#add Agricultural fields\n",
    "AgFields = gpd.read_file(os.path.abspath('c:/Carol_PG_CERT_GIS/EGM722_Project/data_files/AgFields.shp'))\n",
    "AgFields.to_crs(epsg=2157, inplace=True)\n",
    "# to add the  Agricultural fields data to map  :\n",
    "AgFields_feature = ShapelyFeature(AgFields['geometry'], myCRS, edgecolor='w', facecolor='lightgrey', linewidth=0.3)\n",
    "ax.add_feature(AgFields_feature)\n",
    "\n",
    "# add ASSI\n",
    "ASSI = gpd.read_file(os.path.abspath('c:/Carol_PG_CERT_GIS/EGM722_Project//data_files/ASSI.shp')).to_crs(epsg=2157)\n",
    "ASSI_feature = ShapelyFeature(ASSI['geometry'], myCRS, edgecolor='lightgreen', facecolor='lightgreen', linewidth=0.1)\n",
    "ax.add_feature(ASSI_feature)"
   ]
  },
  {
   "cell_type": "code",
   "execution_count": null,
   "id": "1d20054c",
   "metadata": {},
   "outputs": [],
   "source": [
    "###- - - - - - - - - - - - - - - Create an inclusive NI Outline- - - - - - - - - - - - - - - - - - - - - - - - - - - - - - - - -- - -\n",
    "NI_bHWM = ASSI.overlay(outline, how='union')\n",
    "NI_bHW_dis = NI_bHWM.dissolve()\n",
    "NI_bHWM_dis_feature = ShapelyFeature(NI_bHW_dis['geometry'], myCRS, edgecolor='black', facecolor='none', linewidth=0.5)   \n",
    "ax.add_feature(NI_bHWM_dis_feature)\n",
    "outline = NI_bHW_dis"
   ]
  },
  {
   "cell_type": "code",
   "execution_count": null,
   "id": "20fd61f0",
   "metadata": {},
   "outputs": [],
   "source": [
    "###- - - - - - - - - - - - - - -  Initial spatial analysis- - - - - - - - - - - - - - - - - - - - - - - - - - - - - - - - -- - - -\n",
    "outline.crs ==  AgFields.crs == ASSI.crs  #Ensure all in gdfs are in same CRS\n",
    "\n",
    "ASSI_buffer = ASSI.copy()\n",
    "ASSI_buffer.geometry = ASSI.geometry.buffer(3000)\n",
    "ASSI_buffer_dis = ASSI_buffer.dissolve()\n",
    "#ASSI_buffer_feature = ShapelyFeature(ASSI_buffer['geometry'], myCRS, edgecolor='red', facecolor='none', linewidth=1)\n",
    "#ASSI_bufDisfeature = ShapelyFeature(ASSI_buffer_dis['geometry'], myCRS, edgecolor='red', facecolor='none', linewidth=1)\n",
    "\n",
    "# to restrict the 3mbuffer to the NI extent\n",
    "intersectLayer = gpd.overlay(ASSI_buffer_dis, outline, how ='intersection')\n",
    "intersectLayer_feature = ShapelyFeature(intersectLayer['geometry'], myCRS, edgecolor='red', facecolor='none', linewidth=1)\n",
    "\n",
    "\n",
    "# to add the  ASSI data to map:\n",
    "#ax.add_feature(ASSI_bufDisfeature)\n",
    "ax.add_feature(ASSI_feature)\n",
    "ax.add_feature(intersectLayer_feature)\n"
   ]
  },
  {
   "cell_type": "code",
   "execution_count": null,
   "id": "cffd2b51",
   "metadata": {},
   "outputs": [],
   "source": []
  },
  {
   "cell_type": "code",
   "execution_count": null,
   "id": "ee6bd6d0",
   "metadata": {},
   "outputs": [],
   "source": [
    "ASSI.head()"
   ]
  },
  {
   "cell_type": "code",
   "execution_count": null,
   "id": "e8ba1688",
   "metadata": {
    "scrolled": true
   },
   "outputs": [],
   "source": [
    "ASSI_buffer.head()\n",
    "print(type(ASSI_buffer))\n",
    "ASSI_buffer['areaKm2'] = ASSI_buffer.area/10000000"
   ]
  },
  {
   "cell_type": "code",
   "execution_count": null,
   "id": "4b16deb3",
   "metadata": {},
   "outputs": [],
   "source": []
  },
  {
   "cell_type": "code",
   "execution_count": null,
   "id": "e034859f",
   "metadata": {},
   "outputs": [],
   "source": [
    "intersectLayer = gpd.overlay(AgFields, ASSI_buffer, how ='intersection')\n",
    "intersectLayer2= intersectLayer['geometry'].unary_union \n",
    "#ASSI_buffer.head()\n",
    "#ASSI_buffer.head()\n",
    "print(type(intersectLayer))\n",
    "intersectLayer_feature = ShapelyFeature(intersectLayer2['geometry'], myCRS, edgecolor='green', facecolor='none', linewidth=2)\n",
    "ax.add_feature(intersectLayer_feature)"
   ]
  },
  {
   "cell_type": "code",
   "execution_count": null,
   "id": "13fe749d",
   "metadata": {},
   "outputs": [],
   "source": [
    "intersectLayer2= intersectLayer['geometry'].unary_union \n",
    "#ASSI_buffer.head()\n",
    "#ASSI_buffer.head()\n",
    "print(type(intersectLayer))\n",
    "intersectLayer_feature = ShapelyFeature(intersectLayer2['geometry'], myCRS, edgecolor='green', facecolor='none', linewidth=2)\n",
    "ax.add_feature(intersectLayer_feature)"
   ]
  },
  {
   "cell_type": "code",
   "execution_count": null,
   "id": "595a7277",
   "metadata": {},
   "outputs": [],
   "source": [
    "ASSI_buffer.to_file('ASSIbuf3km.shp')\n",
    "#print(outline.area)\n",
    "#print(ASSI_buffer.area)\n",
    "print(ASSI_buffer.geometry.area.sum)\n",
    "#print(ASSI_buffer.columns)\n",
    "#print(ASSI_buffer.area.sum)"
   ]
  },
  {
   "cell_type": "code",
   "execution_count": null,
   "id": "3bdb2576",
   "metadata": {},
   "outputs": [],
   "source": [
    "#- - - - - - - - - - - - - - -  Initial summary results- - - - - - - - - - - - - - - - - - - - - - - - - - - - - - -"
   ]
  },
  {
   "cell_type": "code",
   "execution_count": null,
   "id": "cdf69550",
   "metadata": {},
   "outputs": [],
   "source": [
    "ASSI.head()"
   ]
  },
  {
   "cell_type": "code",
   "execution_count": null,
   "id": "effb0081",
   "metadata": {},
   "outputs": [],
   "source": [
    "print(ASSI_buffer.columns)\n",
    "ASSI_buffer.head()"
   ]
  },
  {
   "cell_type": "code",
   "execution_count": null,
   "id": "6acddc1e",
   "metadata": {},
   "outputs": [],
   "source": [
    "ASSI_buffer.head()\n",
    "ASSI_buffer.loc[ASSI_buffer['NAME'] == 'Lough Neagh']\n",
    "columnsToDelete = ['GIS_AREA', 'GIS_LENGTH', 'Shape_STAr', 'Shape_STLe'] # columns to be removed\n",
    "ASSI_buffer = ASSI_buffer.drop(columns= columnsToDelete) # remove columns"
   ]
  },
  {
   "cell_type": "code",
   "execution_count": null,
   "id": "bbd8a48f",
   "metadata": {},
   "outputs": [],
   "source": [
    "ASSI_buffer.to_file('filename.shp', driver = \"ESRI Shapefile\") #saves file to an esri shapefile\n"
   ]
  },
  {
   "cell_type": "code",
   "execution_count": null,
   "id": "f609ef3c",
   "metadata": {},
   "outputs": [],
   "source": [
    "#to get the top 10 values of a field:\n",
    "top_10 = ASSI.sort_values(\"GIS_AREA\", ascending=False).head(10)\n",
    "top_10\n"
   ]
  },
  {
   "cell_type": "code",
   "execution_count": null,
   "id": "e3af39c8",
   "metadata": {},
   "outputs": [],
   "source": [
    "print(type(top_10))\n",
    "top_10feature = ShapelyFeature(top_10['geometry'], myCRS, edgecolor='yellow', facecolor='none', linewidth=2)\n",
    "ax.add_feature(top_10feature)\n",
    "myFig"
   ]
  },
  {
   "cell_type": "code",
   "execution_count": null,
   "id": "ec05adcd",
   "metadata": {},
   "outputs": [],
   "source": [
    "#- - - - - - - - - - - - - - -  Further spatial analyses- - - - - - - - - - - - - - - - - - - - - - - - - - - - - - -\n",
    "\n",
    "join = gpd.sjoin(ASSI_buffer, AgFields, how='inner', lsuffix='left', rsuffix='right')\n",
    "join = gpd.sjoin(counties, wards, how='inner', lsuffix='left', rsuffix='right') # perform the spatial join of counties and wards\n",
    "joinedData = join.groupby(['CountyName'])['Population'].sum() # assign summary data to variable to be printed\n",
    "print(joinedData)\n",
    "# below here, you may need to modify the script somewhat to create your map.\n",
    "\n",
    "\n",
    "\n",
    "\n",
    "\n",
    "\n",
    "# to make a nice colorbar that stays in line with our map, use these lines:\n",
    "divider = make_axes_locatable(ax)\n",
    "cax = divider.append_axes(\"right\", size=\"5%\", pad=0.1, axes_class=plt.Axes)\n",
    "\n",
    "\n",
    "# plot the ward data into our axis, using\n",
    "ward_plot = wards.plot(column='Population', ax=ax, vmin=1000, vmax=8000, cmap='viridis',\n",
    "                       legend=True, cax=cax, legend_kwds={'label': 'Resident Population'})\n",
    "\n",
    "\n",
    "county_outlines = ShapelyFeature(counties['geometry'], myCRS, edgecolor='r', facecolor='none')\n",
    "\n",
    "\n",
    "ax.add_feature(county_outlines)\n",
    "county_handles = [mpatches.Rectangle((0, 0), 1, 1, facecolor='none', edgecolor='r')]\n",
    "\n",
    "ax.legend(county_handles, ['County Boundaries'], fontsize=12, loc='upper left', framealpha=1)\n",
    "\n",
    "\n"
   ]
  },
  {
   "cell_type": "code",
   "execution_count": null,
   "id": "167abc1a",
   "metadata": {},
   "outputs": [],
   "source": [
    "ax.add_feature(intersectLayer_feature)"
   ]
  },
  {
   "cell_type": "code",
   "execution_count": null,
   "id": "4f4a8d37",
   "metadata": {},
   "outputs": [],
   "source": [
    "#- - - - - - - - - - - - - - -  Further summary results- - - - - - - - - - - - - - - - - - - - - - - - - - - - - - -"
   ]
  },
  {
   "cell_type": "code",
   "execution_count": null,
   "id": "d16e9418",
   "metadata": {},
   "outputs": [],
   "source": [
    "###- - - - - - - - - - - - - - -  Add background features to map (for aesthetic/contest setting purposes only) - - - - - - - - - - - - - - - - - - - - - - - - - - - - - - - - -- - - -\n",
    "ax.add_feature(cartopy.feature.OCEAN)\n",
    "ax.add_feature(cartopy.feature.LAND)\n",
    "#ax.add_feature(cartopy.feature.BORDERS)\n",
    "\n",
    "#add towns  to give additional context\n",
    "towns = gpd.read_file(os.path.abspath('c:/Carol_PG_CERT_GIS/egm722_Practicals/egm722/week2/data_files/Towns.shp'))\n",
    "towns.to_crs(epsg=2157, inplace=True)\n",
    "# to add the town point data to map and create town handle:\n",
    "town_handle = ax.plot(towns.geometry.x, towns.geometry.y, 's', color='0.5', ms=6, transform=myCRS)\n",
    "# add the text labels for the towns\n",
    "for ind, row in towns.iterrows():  # towns.iterrows() returns the index and row\n",
    "    x, y = row.geometry.x, row.geometry.y  # get the x,y location for each town\n",
    "    ax.text(x, y, row['TOWN_NAME'].title(), fontsize=8, transform=myCRS)  # use plt.text to place a label at x,y\n",
    "    \n",
    "    \n"
   ]
  },
  {
   "cell_type": "code",
   "execution_count": null,
   "id": "a6b2d827",
   "metadata": {},
   "outputs": [],
   "source": [
    "# generate matplotlib handles to create a legend of features in output map\n",
    "def generate_handles(labels, colors, edge='w', alpha=1):\n",
    "    lc = len(colors)  # get the length of the color list\n",
    "    handles = []\n",
    "    for i in range(len(labels)):\n",
    "        handles.append(mpatches.Rectangle((0, 0), 1, 1, facecolor=colors[i % lc], edgecolor=edge, alpha=alpha))\n",
    "    return handles\n",
    "\n",
    "\n",
    "# generate a list of handles for the ASSI datasets\n",
    "ASSI_handles = generate_handles(['COUNTY'], ['lightgreen'])\n",
    "#ASSI_buffer_handles = generate_handles(['COUNTY'], ['lightgreen'])\n",
    "ASSI_buffer_handles = [mpatches.Rectangle((0, 0), 1, 1, facecolor='none', edgecolor='r')]\n",
    "AgField_handles = [mpatches.Rectangle((0, 0), 1, 1, facecolor='lightgrey', edgecolor='w')]"
   ]
  },
  {
   "cell_type": "code",
   "execution_count": null,
   "id": "86669a30",
   "metadata": {},
   "outputs": [],
   "source": [
    "#- - - - - - - - - - - - - - -  Present results from analysis- - - - - - - - - - - - - - - - - - - - - - - - - - - - - -\n",
    "#TODO: present results"
   ]
  },
  {
   "cell_type": "code",
   "execution_count": null,
   "id": "103c1763",
   "metadata": {},
   "outputs": [],
   "source": [
    "###- - - - - - - - - - - - - - - Output the final map- - - - - - - - - - - - - - -\n",
    "# generate a list of handles for the ASSI datasets\n",
    "ASSI_handles = [mpatches.Rectangle((0, 0), 1, 1, facecolor='lightgreen', edgecolor='lightgreen')]\n",
    "ASSI_buffer_handles = [mpatches.Rectangle((0, 0), 1, 1, facecolor='none', edgecolor='r')]\n",
    "AgField_handles = [mpatches.Rectangle((0, 0), 1, 1, facecolor='lightgrey', edgecolor='w')]\n",
    "\n",
    "handles =  town_handle +  AgField_handles + ASSI_handles + ASSI_buffer_handles \n",
    "labels = ['Town', 'Field','ASSI', '3km Buffer']\n",
    "\n",
    "leg = ax.legend(handles, labels, title='Legend', title_fontsize=12,\n",
    "                fontsize=10, loc='upper left', frameon=True, framealpha=1)\n",
    "\n",
    "\n",
    "#-----------------------------add gridlines:----------------------------------------------------------------------------------\n",
    "gridlines = ax.gridlines(draw_labels=True,  # draw  labels for the grid lines\n",
    "                         xlocs=[-8, -7.5, -7, -6.5, -6, -5.5],  # add longitude lines at 0.5 deg intervals\n",
    "                         ylocs=[54, 54.5, 55, 55.5])  # add latitude lines at 0.5 deg intervals\n",
    "gridlines.left_labels = False  # turn off the left-side labels\n",
    "gridlines.bottom_labels = False  # turn off the bottom labels\n",
    "\n",
    "    \n",
    "#-----------------------------add a scale bar:----------------------------------------------------------------------------------\n",
    "def scale_bar(ax, location=(0.1, 0.05)):\n",
    "    x0, x1, y0, y1 = ax.get_extent()\n",
    "    sbx = x0 + (x1 - x0) * location[0]\n",
    "    sby = y0 + (y1 - y0) * location[1]\n",
    "\n",
    "    ax.plot([sbx, sbx - 10000], [sby, sby], color='k', linewidth=7, transform=ax.projection)\n",
    "    ax.plot([sbx, sbx - 5000], [sby, sby], color='k', linewidth=6, transform=ax.projection)\n",
    "    ax.plot([sbx-5000, sbx - 10000], [sby, sby], color='w', linewidth=6, transform=ax.projection)\n",
    "    ax.plot([sbx-9000, sbx - 10000], [sby, sby], color='k', linewidth=6, transform=ax.projection)\n",
    "\n",
    "    ax.text(sbx, sby-4500, '10 km', transform=ax.projection, fontsize=6)\n",
    "    ax.text(sbx-4250, sby-4500, '5', transform=ax.projection, fontsize=6)#should be 6250 but doesn't place well\n",
    "    ax.text(sbx-9750, sby-4500, '1', transform=ax.projection, fontsize=6)# should be 11250 but doesn't place well\n",
    "    ax.text(sbx-12500, sby-4500, '0', transform=ax.projection, fontsize=6)\n",
    "    #ax.text(sbx-24500, sby-4500, '0 km', transform=ax.projection, fontsize=6)\n",
    "\n",
    "    \n",
    "# add the scale bar to the axis\n",
    "scale_bar(ax)\n",
    "\n",
    "#-----------------------------add a north arrow:----------------------------------------------------------------------------------\n",
    "x, y, arrow_length = 0.93, 0.1, 0.075\n",
    "ax.annotate('N', xy=(x, y), xytext=(x, y-arrow_length),\n",
    "            arrowprops=dict(facecolor=\"black\", width=3.5, headwidth=15),\n",
    "            ha='center', va='center', fontsize=15,\n",
    "            xycoords=ax.transAxes)"
   ]
  },
  {
   "cell_type": "code",
   "execution_count": null,
   "id": "77e623d3",
   "metadata": {},
   "outputs": [],
   "source": [
    "myFig"
   ]
  },
  {
   "cell_type": "code",
   "execution_count": null,
   "id": "dca9a832",
   "metadata": {},
   "outputs": [],
   "source": [
    "# save the figure\n",
    "myFig.savefig('sample_map22.png', dpi=300, bbox_inches='tight')"
   ]
  },
  {
   "cell_type": "code",
   "execution_count": null,
   "id": "15eb2d90",
   "metadata": {},
   "outputs": [],
   "source": []
  }
 ],
 "metadata": {
  "kernelspec": {
   "display_name": "Python 3 (ipykernel)",
   "language": "python",
   "name": "python3"
  },
  "language_info": {
   "codemirror_mode": {
    "name": "ipython",
    "version": 3
   },
   "file_extension": ".py",
   "mimetype": "text/x-python",
   "name": "python",
   "nbconvert_exporter": "python",
   "pygments_lexer": "ipython3",
   "version": "3.11.3"
  }
 },
 "nbformat": 4,
 "nbformat_minor": 5
}
